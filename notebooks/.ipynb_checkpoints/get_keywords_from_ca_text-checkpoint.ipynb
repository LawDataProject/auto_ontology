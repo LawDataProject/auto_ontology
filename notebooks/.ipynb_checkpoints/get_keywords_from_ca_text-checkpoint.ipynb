{
 "cells": [
  {
   "cell_type": "markdown",
   "metadata": {},
   "source": [
    "### Stage 1:\n"
   ]
  },
  {
   "cell_type": "code",
   "execution_count": 1,
   "metadata": {},
   "outputs": [],
   "source": [
    "import glob,json,os,pdb,sys,time\n",
    "import pandas as pd"
   ]
  },
  {
   "cell_type": "code",
   "execution_count": 2,
   "metadata": {},
   "outputs": [],
   "source": [
    "sys.path.append(os.path.abspath('/opt/Programs'))\n",
    "from ds_utils import xang1234_pytextrank as pyt, nlp_utils as nlp\n",
    "from project import project_utils as pu\n",
    "%load_ext autoreload\n",
    "%autoreload 2"
   ]
  },
  {
   "cell_type": "code",
   "execution_count": 3,
   "metadata": {},
   "outputs": [],
   "source": [
    "#Get all pdf file paths from directory\n",
    "files = list()\n",
    "for file in glob.glob('/opt/Programs/project/data/CA/CA-texts/*txt'):\n",
    "    files.append(file)"
   ]
  },
  {
   "cell_type": "code",
   "execution_count": 4,
   "metadata": {},
   "outputs": [
    {
     "data": {
      "text/plain": [
       "1655"
      ]
     },
     "execution_count": 4,
     "metadata": {},
     "output_type": "execute_result"
    }
   ],
   "source": [
    "len(files)"
   ]
  },
  {
   "cell_type": "code",
   "execution_count": 5,
   "metadata": {},
   "outputs": [],
   "source": [
    "def get_text(file):\n",
    "    with open(file,'r') as f:\n",
    "        text = f.readlines()\n",
    "    text = [t for t in text if t!='\\n']\n",
    "    text = [t for t in text if t!=' \\n']\n",
    "    text = \" \".join(text)\n",
    "    text = text.replace('\\n','')\n",
    "    text = text.replace('\\x0c','')\n",
    "    return text"
   ]
  },
  {
   "cell_type": "code",
   "execution_count": 6,
   "metadata": {},
   "outputs": [
    {
     "name": "stdout",
     "output_type": "stream",
     "text": [
      "Processing time in minutes: 326.73160010178884\n"
     ]
    }
   ],
   "source": [
    "start = time.time()\n",
    "keyword_dict = dict()\n",
    "keywords = list()\n",
    "for idx,file in enumerate(files):\n",
    "    text = get_text(file)\n",
    "    keyword_dict[idx] = dict()\n",
    "    keyword_dict[idx]['text'] = text\n",
    "    kws = nlp.get_keywords(text)\n",
    "    keyword_dict[idx]['keywords'] = nlp.get_keywords(text)\n",
    "    try:\n",
    "        if len(kws)>1:\n",
    "            keywords.extend(kws)\n",
    "        else:\n",
    "            keywords.append(kws)\n",
    "    except:\n",
    "        pass\n",
    "print(\"Processing time in minutes:\",((time.time()-start)/60))"
   ]
  },
  {
   "cell_type": "code",
   "execution_count": 7,
   "metadata": {},
   "outputs": [],
   "source": [
    "with open('/opt/Programs/project/data/ca_keywords.json','w') as f:\n",
    "    f.write(json.dumps(keyword_dict))"
   ]
  },
  {
   "cell_type": "code",
   "execution_count": 12,
   "metadata": {},
   "outputs": [],
   "source": [
    "keywords = list()\n",
    "from pprint import pprint\n",
    "\n",
    "with open('/opt/Programs/project/data/ca_keywords.json','r') as f:\n",
    "    data = json.load(f)"
   ]
  },
  {
   "cell_type": "code",
   "execution_count": 17,
   "metadata": {},
   "outputs": [
    {
     "data": {
      "text/plain": [
       "'project description, satisfy condition, ceqa findings, santa clara county board, santa clara county, s1 trail, trail easements, eir required stanford, final alignment, environmental quality act, lead agency, c1 trail, eir, government code section, action, leland stanford junior'"
      ]
     },
     "execution_count": 17,
     "metadata": {},
     "output_type": "execute_result"
    }
   ],
   "source": [
    "data['0']['keywords']"
   ]
  },
  {
   "cell_type": "code",
   "execution_count": 19,
   "metadata": {},
   "outputs": [
    {
     "name": "stdout",
     "output_type": "stream",
     "text": [
      "Keywords is not a string\n",
      "Keywords is not a string\n",
      "Keywords is not a string\n",
      "Keywords is not a string\n",
      "Keywords is not a string\n",
      "Keywords is not a string\n",
      "Keywords is not a string\n",
      "Keywords is not a string\n",
      "Keywords is not a string\n",
      "Keywords is not a string\n",
      "Keywords is not a string\n",
      "Keywords is not a string\n",
      "Keywords is not a string\n",
      "Keywords is not a string\n",
      "Keywords is not a string\n",
      "Keywords is not a string\n",
      "Keywords is not a string\n",
      "Keywords is not a string\n"
     ]
    },
    {
     "data": {
      "text/plain": [
       "26137"
      ]
     },
     "execution_count": 19,
     "metadata": {},
     "output_type": "execute_result"
    }
   ],
   "source": [
    "keywords = list()\n",
    "for key,value in data.items():\n",
    "    if isinstance(value['keywords'],str):\n",
    "        kws = value['keywords'].split(',')\n",
    "        if len(kws) > 1:\n",
    "            keywords.extend(kws)\n",
    "        else:\n",
    "            keywords.append(kws)\n",
    "    else:\n",
    "        print('Keywords is not a string')\n",
    "len(keywords)"
   ]
  },
  {
   "cell_type": "code",
   "execution_count": 23,
   "metadata": {},
   "outputs": [],
   "source": [
    "clean_kws = set(['medical marijuana','appealable issues','attorney fees','methamphetamine','jury instructions', 'degrate','juvenile dependency proceedings', 'private health care', 'ucl actions', ' post-ronje probable cause hearing','punitive','federal antidiscrimination acts','dissolution', 'cross-examination', 'pension system','juvenile','grand theft','property right','prior conviction strike','allegation', 'sentencing', 'inapplicable section', 'vacate','forfeiture','substantial bodily injury','offense','civil action', 'minor appeals','conflict', 'petitioner','facial challenges', 'privilege','deceptive', 'investments', 'discovery', 'second degree robberies', 'annuity', 'clerical errors', 'dispositional order', 'child molest', 'intentional interference', 'principal offense', 'water quality protection measures', 'agreement', 'work site evaluation', 'audited financial', 'volitional control', 'prosecutors', 'contracts', 'statutory definition', 'retrospective law', 'guardianship assistance payment program', 'visitation orders', 'compelling arbitration', 'assessed value', 'replacement cost', 'duties', 'personal insight', 'prohibited category', 'contractual attorney', 'spouse', 'primary felony offense', 'maximum potential sentence', 'additional conduct credits', 'demurrer', 'subsequent compensable injury', 'airport land use', 'appellant', 'arbitration law', 'ethics standards', 'sua sponte', 'plurality opinion', 'risk doctrine', 'shareholder derivative action', 'common law', 'wrongful death' 'multiple prior strike', 'mental examination', 'determinate term', 'meaningful chance', 'antitrust law', 'invasion', 'carjacking', 'independent judgment', 'real property', 'remedy', 'restitution', 'parolee status', 'contractual rights', 'invalid assessment protocol', 'misdemeanor charges', 'compassionate use act', 'extrajudicial statement', 'malicious acts', 'plea offer', 'predicate felony', 'civil jury waiver', 'nunc pro tunc order', 'public nuisance', 'probable compensation', 'civil contempt', 'hostile environment sexual harassment claim', 'abetting', 'disqualification motion', 'antitrust action', 'accomplice', 'postjudgment petition', 'amicus curiae brief', 'judicial foreclosure action', 'discretion standard', 'settlement offer', 'personam jurisdiction', 'oral declarations', 'commitment petition', 'recidivist sentencing statutes', 'incarceration', 'voluntary consent', 'predicate crimes', 'vague law', 'supplemental briefing', 'dismissal order', 'fiduciary duty', 'substantial factor', 'disposition', 'prospective relief', 'ordinary negligence', 'constitutional guarantees', 'privacy interest', 'unemployment insurance appeals board', 'contingent fees', 'plenary power', 'professional malpractice', 'three strikes law', 'controlled substance', 'nondelegable duties', 'unavailable witness', 'public trust doctrine', 'proper rebuttal evidence', 'material facts', 'first amendment', 'initial indictment', 'mistaken belief', 'dispute resolution', 'underlying agreement', 'wrongful death', 'real parties', 'slip opinion', 'substantive counts', 'professional duties', 'voluntary', 'lewd conduct', 'summary revocation', 'holographic will', 'first degree murder', 'adjudication', 'permanent partial disability', 'antecedent injury-producing conduct', 'mandatory penalty assessments', 'admissible evidence', 'strict liability', 'felonious assault', 'expert', 'holdout juror', 'predatory offenses', 'administrative mandate', 'forum-selection', 'employment arbitration', 'transactional immunity'])"
   ]
  },
  {
   "cell_type": "code",
   "execution_count": 24,
   "metadata": {},
   "outputs": [
    {
     "data": {
      "text/plain": [
       "167"
      ]
     },
     "execution_count": 24,
     "metadata": {},
     "output_type": "execute_result"
    }
   ],
   "source": [
    "len(clean_kws)"
   ]
  },
  {
   "cell_type": "code",
   "execution_count": null,
   "metadata": {},
   "outputs": [],
   "source": [
    "from pprint import pprint\n",
    "pprint(keyword_dict)"
   ]
  },
  {
   "cell_type": "code",
   "execution_count": null,
   "metadata": {},
   "outputs": [],
   "source": [
    "legal_word_list = ['disclosure']"
   ]
  },
  {
   "cell_type": "code",
   "execution_count": null,
   "metadata": {},
   "outputs": [],
   "source": [
    "text = keyword_dict[100]['text']\n",
    "text = text.replace('\\n','')\n",
    "text = text.replace('\\x0c','')\n",
    "text"
   ]
  },
  {
   "cell_type": "code",
   "execution_count": null,
   "metadata": {},
   "outputs": [],
   "source": []
  }
 ],
 "metadata": {
  "kernelspec": {
   "display_name": "Python 3",
   "language": "python",
   "name": "python3"
  },
  "language_info": {
   "codemirror_mode": {
    "name": "ipython",
    "version": 3
   },
   "file_extension": ".py",
   "mimetype": "text/x-python",
   "name": "python",
   "nbconvert_exporter": "python",
   "pygments_lexer": "ipython3",
   "version": "3.7.1"
  }
 },
 "nbformat": 4,
 "nbformat_minor": 1
}
